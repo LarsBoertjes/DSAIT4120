{
 "cells": [
  {
   "cell_type": "code",
   "id": "initial_id",
   "metadata": {
    "collapsed": true,
    "ExecuteTime": {
     "end_time": "2025-01-01T16:18:57.498873Z",
     "start_time": "2025-01-01T16:18:51.871604Z"
    }
   },
   "source": [
    "import torch\n",
    "from torch import nn\n",
    "from torch.utils.data import DataLoader\n",
    "from torchvision import datasets\n",
    "from torchvision.transforms import ToTensor"
   ],
   "outputs": [],
   "execution_count": 1
  },
  {
   "metadata": {},
   "cell_type": "markdown",
   "source": "### Working with data",
   "id": "4d09b9bd12492a3e"
  },
  {
   "metadata": {
    "ExecuteTime": {
     "end_time": "2025-01-01T16:18:57.641660Z",
     "start_time": "2025-01-01T16:18:57.530109Z"
    }
   },
   "cell_type": "code",
   "source": [
    "training_data = datasets.FashionMNIST(\n",
    "    root=\"data\",\n",
    "    train=True,\n",
    "    download=True,\n",
    "    transform=ToTensor(),\n",
    ")\n",
    "\n",
    "test_data = datasets.FashionMNIST(\n",
    "    root=\"data\",\n",
    "    train=False,\n",
    "    download=True,\n",
    "    transform=ToTensor(),\n",
    ")"
   ],
   "id": "994dd27647bfa369",
   "outputs": [],
   "execution_count": 2
  },
  {
   "metadata": {
    "ExecuteTime": {
     "end_time": "2025-01-01T16:20:21.567002Z",
     "start_time": "2025-01-01T16:20:21.553636Z"
    }
   },
   "cell_type": "code",
   "source": "batch_size = 64",
   "id": "813e9b4a14e1c76d",
   "outputs": [],
   "execution_count": 3
  },
  {
   "metadata": {
    "ExecuteTime": {
     "end_time": "2025-01-01T16:21:33.872467Z",
     "start_time": "2025-01-01T16:21:33.859003Z"
    }
   },
   "cell_type": "code",
   "source": [
    "train_dataloader = DataLoader(training_data, batch_size=batch_size)\n",
    "test_dataloader = DataLoader(test_data, batch_size=batch_size)\n",
    "\n",
    "for X, y in test_dataloader:\n",
    "    print(f\"Shape of X [N, C, H, W]: {X.shape}\")\n",
    "    print(f\"Shape of y: {y.shape} {y.dtype}\")\n",
    "    break"
   ],
   "id": "fdae0b76dcfc6b6e",
   "outputs": [
    {
     "name": "stdout",
     "output_type": "stream",
     "text": [
      "Shape of X [N, C, H, W]: torch.Size([64, 1, 28, 28])\n",
      "Shape of y: torch.Size([64]) torch.int64\n"
     ]
    }
   ],
   "execution_count": 4
  },
  {
   "metadata": {},
   "cell_type": "markdown",
   "source": "### Creating Models",
   "id": "ebcd4fdd22307368"
  },
  {
   "metadata": {
    "ExecuteTime": {
     "end_time": "2025-01-01T16:28:54.415089Z",
     "start_time": "2025-01-01T16:28:54.402978Z"
    }
   },
   "cell_type": "code",
   "source": [
    "# Get cpu, gpu or mps device for training\n",
    "device = (\n",
    "    \"cuda\"\n",
    "    if torch.cuda.is_available()\n",
    "    else \"mps\"\n",
    "    if torch.backends.mps.is_available()\n",
    "    else \"cpu\"\n",
    ")\n",
    "print(f\"Using {device} device\")\n",
    "\n",
    "# Define the model\n",
    "class NeuralNetwork(nn.Module):\n",
    "    def __init__(self):\n",
    "        super().__init__()\n",
    "        self.flatten = nn.Flatten()\n",
    "        self.linear_relu_stack = nn.Sequential(\n",
    "            nn.Linear(28 * 28, 512),\n",
    "            nn.ReLU(),\n",
    "            nn.Linear(512, 512),\n",
    "            nn.ReLU(),\n",
    "            nn.Linear(512, 10)\n",
    "        )\n",
    "\n",
    "    def forward(self, x):\n",
    "        x = self.flatten(x)\n",
    "        logits = self.linear_relu_stack(x)\n",
    "        return logits\n"
   ],
   "id": "afc5dcd9e062debc",
   "outputs": [
    {
     "name": "stdout",
     "output_type": "stream",
     "text": [
      "Using cpu device\n"
     ]
    }
   ],
   "execution_count": 5
  },
  {
   "metadata": {
    "ExecuteTime": {
     "end_time": "2025-01-01T16:29:02.457894Z",
     "start_time": "2025-01-01T16:29:02.446063Z"
    }
   },
   "cell_type": "code",
   "source": [
    "model = NeuralNetwork().to(device)\n",
    "print(model)"
   ],
   "id": "4504ec5c4822b7b4",
   "outputs": [
    {
     "name": "stdout",
     "output_type": "stream",
     "text": [
      "NeuralNetwork(\n",
      "  (flatten): Flatten(start_dim=1, end_dim=-1)\n",
      "  (linear_relu_stack): Sequential(\n",
      "    (0): Linear(in_features=784, out_features=512, bias=True)\n",
      "    (1): ReLU()\n",
      "    (2): Linear(in_features=512, out_features=512, bias=True)\n",
      "    (3): ReLU()\n",
      "    (4): Linear(in_features=512, out_features=10, bias=True)\n",
      "  )\n",
      ")\n"
     ]
    }
   ],
   "execution_count": 6
  },
  {
   "metadata": {},
   "cell_type": "markdown",
   "source": "### Optimizing the Model Parameters",
   "id": "905b1b6463564f9e"
  },
  {
   "metadata": {
    "ExecuteTime": {
     "end_time": "2025-01-01T16:34:03.746934Z",
     "start_time": "2025-01-01T16:34:03.735330Z"
    }
   },
   "cell_type": "code",
   "source": [
    "loss_fn = nn.CrossEntropyLoss()\n",
    "optimizer = torch.optim.SGD(model.parameters(), lr=1e-3)"
   ],
   "id": "db712a3c25bf7ee3",
   "outputs": [],
   "execution_count": 7
  },
  {
   "metadata": {
    "ExecuteTime": {
     "end_time": "2025-01-01T16:36:43.528752Z",
     "start_time": "2025-01-01T16:36:43.501697Z"
    }
   },
   "cell_type": "code",
   "source": [
    "def train(dataloader, model, loss_fn, optimizer):\n",
    "    size = len(dataloader.dataset)\n",
    "    model.train()\n",
    "    for batch, (X, y) in enumerate(dataloader):\n",
    "        X, y = X.to(device), y.to(device)\n",
    "\n",
    "        # Compute prediction error\n",
    "        pred = model(X)\n",
    "        loss = loss_fn(pred, y)\n",
    "\n",
    "        # Backpropagation\n",
    "        loss.backward()\n",
    "        optimizer.step()\n",
    "        optimizer.zero_grad()\n",
    "\n",
    "        if batch % 100 == 0:\n",
    "            loss, current = loss.item(), (batch + 1) * len(X)\n",
    "            print(f\"loss: {loss:>7f}  [{current:>5d}/{size:5d}]\")\n",
    "\n",
    "def test(dataloader, model, loss_fn):\n",
    "    size = len(dataloader.dataset)\n",
    "    num_batches = len(dataloader)\n",
    "    model.eval()\n",
    "    test_loss, correct = 0, 0\n",
    "    with torch.no_grad():\n",
    "        for X, y in dataloader:\n",
    "            X, y = X.to(device), y.to(device)\n",
    "            pred = model(X)\n",
    "            test_loss += loss_fn(pred, y).item()\n",
    "            correct += (pred.argmax(1) == y).type(torch.float).sum().item()\n",
    "    test_loss /= num_batches\n",
    "    correct /= size\n",
    "    print(f\"Test Error: \\n Accuracy: {(100*correct):>0.1f}%, Avg loss: {test_loss:>8f} \\n\")\n"
   ],
   "id": "6ee2f8f7590d1d94",
   "outputs": [],
   "execution_count": 8
  },
  {
   "metadata": {
    "ExecuteTime": {
     "end_time": "2025-01-01T16:37:54.120472Z",
     "start_time": "2025-01-01T16:37:28.765317Z"
    }
   },
   "cell_type": "code",
   "source": [
    "epochs = 5\n",
    "for t in range(epochs):\n",
    "    print(f\"Epoch {t+1}\\n------------------------------\")\n",
    "    train(train_dataloader, model, loss_fn, optimizer)\n",
    "    test(test_dataloader, model, loss_fn)\n",
    "print(\"Done!\")"
   ],
   "id": "5cc4e7e110500e5f",
   "outputs": [
    {
     "name": "stdout",
     "output_type": "stream",
     "text": [
      "Epoch 1\n",
      "------------------------------\n",
      "loss: 2.294635  [   64/60000]\n",
      "loss: 2.286478  [ 6464/60000]\n",
      "loss: 2.267990  [12864/60000]\n",
      "loss: 2.264097  [19264/60000]\n",
      "loss: 2.247759  [25664/60000]\n",
      "loss: 2.217609  [32064/60000]\n",
      "loss: 2.230978  [38464/60000]\n",
      "loss: 2.200925  [44864/60000]\n",
      "loss: 2.191708  [51264/60000]\n",
      "loss: 2.158803  [57664/60000]\n",
      "Test Error: \n",
      " Accuracy: 39.2%, Avg loss: 2.154551 \n",
      "\n",
      "Epoch 2\n",
      "------------------------------\n",
      "loss: 2.169323  [   64/60000]\n",
      "loss: 2.157789  [ 6464/60000]\n",
      "loss: 2.100898  [12864/60000]\n",
      "loss: 2.114450  [19264/60000]\n",
      "loss: 2.066256  [25664/60000]\n",
      "loss: 2.005352  [32064/60000]\n",
      "loss: 2.048115  [38464/60000]\n",
      "loss: 1.971454  [44864/60000]\n",
      "loss: 1.974204  [51264/60000]\n",
      "loss: 1.900360  [57664/60000]\n",
      "Test Error: \n",
      " Accuracy: 53.4%, Avg loss: 1.898342 \n",
      "\n",
      "Epoch 3\n",
      "------------------------------\n",
      "loss: 1.942123  [   64/60000]\n",
      "loss: 1.905618  [ 6464/60000]\n",
      "loss: 1.791511  [12864/60000]\n",
      "loss: 1.828376  [19264/60000]\n",
      "loss: 1.710594  [25664/60000]\n",
      "loss: 1.671955  [32064/60000]\n",
      "loss: 1.706653  [38464/60000]\n",
      "loss: 1.610323  [44864/60000]\n",
      "loss: 1.629987  [51264/60000]\n",
      "loss: 1.528219  [57664/60000]\n",
      "Test Error: \n",
      " Accuracy: 59.0%, Avg loss: 1.539691 \n",
      "\n",
      "Epoch 4\n",
      "------------------------------\n",
      "loss: 1.616657  [   64/60000]\n",
      "loss: 1.571537  [ 6464/60000]\n",
      "loss: 1.425232  [12864/60000]\n",
      "loss: 1.488869  [19264/60000]\n",
      "loss: 1.359018  [25664/60000]\n",
      "loss: 1.368014  [32064/60000]\n",
      "loss: 1.385630  [38464/60000]\n",
      "loss: 1.315863  [44864/60000]\n",
      "loss: 1.340648  [51264/60000]\n",
      "loss: 1.246132  [57664/60000]\n",
      "Test Error: \n",
      " Accuracy: 62.7%, Avg loss: 1.267448 \n",
      "\n",
      "Epoch 5\n",
      "------------------------------\n",
      "loss: 1.353630  [   64/60000]\n",
      "loss: 1.327263  [ 6464/60000]\n",
      "loss: 1.164426  [12864/60000]\n",
      "loss: 1.261549  [19264/60000]\n",
      "loss: 1.129773  [25664/60000]\n",
      "loss: 1.163571  [32064/60000]\n",
      "loss: 1.184905  [38464/60000]\n",
      "loss: 1.129679  [44864/60000]\n",
      "loss: 1.159024  [51264/60000]\n",
      "loss: 1.078840  [57664/60000]\n",
      "Test Error: \n",
      " Accuracy: 64.7%, Avg loss: 1.097528 \n",
      "\n",
      "Done!\n"
     ]
    }
   ],
   "execution_count": 9
  },
  {
   "metadata": {},
   "cell_type": "markdown",
   "source": "### Saving Models",
   "id": "d9cd03e377091da0"
  },
  {
   "metadata": {
    "ExecuteTime": {
     "end_time": "2025-01-01T16:39:36.314746Z",
     "start_time": "2025-01-01T16:39:36.287260Z"
    }
   },
   "cell_type": "code",
   "source": [
    "torch.save(model.state_dict(), \"model.pth\")\n",
    "print(\"Saved Pytorch Model State to model.pth\")"
   ],
   "id": "932277cef670b47",
   "outputs": [
    {
     "name": "stdout",
     "output_type": "stream",
     "text": [
      "Saved Pytorch Model State to model.pth\n"
     ]
    }
   ],
   "execution_count": 10
  },
  {
   "metadata": {},
   "cell_type": "markdown",
   "source": "### Make predictions",
   "id": "3def4969024665d3"
  },
  {
   "metadata": {
    "ExecuteTime": {
     "end_time": "2025-01-01T16:41:24.004302Z",
     "start_time": "2025-01-01T16:41:23.976604Z"
    }
   },
   "cell_type": "code",
   "source": [
    "classes = [\n",
    "    \"T-shirt/top\",\n",
    "    \"Trouser\",\n",
    "    \"Pullover\",\n",
    "    \"Dress\",\n",
    "    \"Coat\",\n",
    "    \"Sandal\",\n",
    "    \"Shirt\",\n",
    "    \"Sneaker\",\n",
    "    \"Bag\",\n",
    "    \"Ankle boot\",\n",
    "]\n",
    "\n",
    "model.eval()\n",
    "x, y = test_data[0][0], test_data[0][1]\n",
    "with torch.no_grad():\n",
    "    x = x.to(device)\n",
    "    pred = model(x)\n",
    "    predicted, actual = classes[pred[0].argmax(0)], classes[y]\n",
    "    print(f'Predicted: {predicted}, Actual: {actual}')\n"
   ],
   "id": "4b6c01fb8981208a",
   "outputs": [
    {
     "name": "stdout",
     "output_type": "stream",
     "text": [
      "Predicted: Ankle boot, Actual: Ankle boot\n"
     ]
    }
   ],
   "execution_count": 11
  },
  {
   "metadata": {},
   "cell_type": "code",
   "outputs": [],
   "execution_count": null,
   "source": "",
   "id": "92caec197e618323"
  }
 ],
 "metadata": {
  "kernelspec": {
   "display_name": "Python 3",
   "language": "python",
   "name": "python3"
  },
  "language_info": {
   "codemirror_mode": {
    "name": "ipython",
    "version": 2
   },
   "file_extension": ".py",
   "mimetype": "text/x-python",
   "name": "python",
   "nbconvert_exporter": "python",
   "pygments_lexer": "ipython2",
   "version": "2.7.6"
  }
 },
 "nbformat": 4,
 "nbformat_minor": 5
}
